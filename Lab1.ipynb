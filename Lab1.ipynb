{
  "nbformat": 4,
  "nbformat_minor": 0,
  "metadata": {
    "colab": {
      "name": "Lab1.ipynb",
      "provenance": [],
      "collapsed_sections": [],
      "authorship_tag": "ABX9TyOEw0ssuopFWr7UyVMjDOfe",
      "include_colab_link": true
    },
    "kernelspec": {
      "name": "python3",
      "display_name": "Python 3"
    }
  },
  "cells": [
    {
      "cell_type": "markdown",
      "metadata": {
        "id": "view-in-github",
        "colab_type": "text"
      },
      "source": [
        "<a href=\"https://colab.research.google.com/github/EliFreedman/IST-210/blob/master/Lab1.ipynb\" target=\"_parent\"><img src=\"https://colab.research.google.com/assets/colab-badge.svg\" alt=\"Open In Colab\"/></a>"
      ]
    },
    {
      "cell_type": "markdown",
      "metadata": {
        "id": "Iu-E0f86kvKZ",
        "colab_type": "text"
      },
      "source": [
        "###Do you like using Jupyter Notebooks?"
      ]
    },
    {
      "cell_type": "markdown",
      "metadata": {
        "id": "YLmVLcXck9TV",
        "colab_type": "text"
      },
      "source": [
        "Today is the first time I have ever used it. However, I think I'm beginning to get the hang of it. I don't know if I've really used it enough yet to be able to tell if I like using it or not."
      ]
    },
    {
      "cell_type": "markdown",
      "metadata": {
        "id": "RYMKwTyMlI8M",
        "colab_type": "text"
      },
      "source": [
        "###What do you want to learn more about in Jupyter Notebooks?"
      ]
    },
    {
      "cell_type": "markdown",
      "metadata": {
        "id": "et-JaIprlNFY",
        "colab_type": "text"
      },
      "source": [
        "I want to learn how to use it efficiently and effectively. Also, even though it's technically unrelated, I'm excited to learn SQL in Jupyter Notebooks because I've never used it before and it seems interesting."
      ]
    },
    {
      "cell_type": "markdown",
      "metadata": {
        "id": "lN4pOMgMmHyE",
        "colab_type": "text"
      },
      "source": [
        "![Lake Tahoe, California](https://raw.githubusercontent.com/EliFreedman/IST-210/master/Lab1/Background.jpg)"
      ]
    }
  ]
}