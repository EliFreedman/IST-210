{
  "nbformat": 4,
  "nbformat_minor": 0,
  "metadata": {
    "colab": {
      "name": "Lab2.ipynb",
      "provenance": [],
      "collapsed_sections": [],
      "authorship_tag": "ABX9TyNduQaeNSTm32adMuE7U1YY",
      "include_colab_link": true
    },
    "kernelspec": {
      "name": "python3",
      "display_name": "Python 3"
    }
  },
  "cells": [
    {
      "cell_type": "markdown",
      "metadata": {
        "id": "view-in-github",
        "colab_type": "text"
      },
      "source": [
        "<a href=\"https://colab.research.google.com/github/EliFreedman/IST-210/blob/master/Lab2.ipynb\" target=\"_parent\"><img src=\"https://colab.research.google.com/assets/colab-badge.svg\" alt=\"Open In Colab\"/></a>"
      ]
    },
    {
      "cell_type": "markdown",
      "metadata": {
        "id": "wTHmUUNAkf_J"
      },
      "source": [
        "![picture](https://nbviewer.jupyter.org/github/EliFreedman/IST-210/blob/master/PetShop.png)"
      ]
    },
    {
      "cell_type": "markdown",
      "metadata": {
        "id": "D2tnW8JPk03c"
      },
      "source": [
        "I created this ER diagram by using 6 entities: Pets, Pet Food, Food, Enclosure, Transaction, and Customer. Each pet needs an enclosure, and there are many pets and many enclosures, so this is many to many. Each pet also needs pet food, and there are many pets and many types of pet food, so this is also many to many. When a customer wants to purchase something from the pet shop, they have to do it through a transaction. Each transaction can consist of a food, pet food, enclosure, or pet. Transaction uses the ID of the entity as a foreign key called item purchased. It also takes the customer id and uses it as a foreign key. This makes it easier for a customer to make a purchase because it can all go through one entity as opposed to the customer having to interact with each entity that they are purchasing. "
      ]
    }
  ]
}